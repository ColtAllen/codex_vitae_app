{
 "metadata": {
  "language_info": {
   "codemirror_mode": {
    "name": "ipython",
    "version": 3
   },
   "file_extension": ".py",
   "mimetype": "text/x-python",
   "name": "python",
   "nbconvert_exporter": "python",
   "pygments_lexer": "ipython3",
   "version": "3.7.9-final"
  },
  "orig_nbformat": 2,
  "kernelspec": {
   "name": "python3",
   "display_name": "Python 3.7.9 64-bit ('plutoshift_env': conda)",
   "metadata": {
    "interpreter": {
     "hash": "b1297ce7edabcaca12989d21bd400c483a223f2edd8cd756b464bfc71bec8f56"
    }
   }
  }
 },
 "nbformat": 4,
 "nbformat_minor": 2,
 "cells": [
  {
   "cell_type": "code",
   "execution_count": 4,
   "metadata": {},
   "outputs": [],
   "source": [
    "import os\n",
    "from email_extract import authenticate_email_api, get_email_bodies\n",
    "import pandas as pd\n",
    "import re\n",
    "from dateutil.parser import parse"
   ]
  },
  {
   "cell_type": "code",
   "execution_count": 258,
   "metadata": {},
   "outputs": [
    {
     "output_type": "stream",
     "name": "stdout",
     "text": [
      "b'<!DOCTYPE HTML PUBLIC \"-//W3C//DTD HTML 4.0//EN\" \"http://www.w3.org/TR/REC-html40/strict.dtd\">\\r\\n<html><head><meta name=\"qrichtext\" content=\"1\" /><style type=\"text/css\">\\r\\np, li { white-space: pre-wrap; }\\r\\n</style></head><body style=\" font-family:\\'Maison Neue - Medium\\'; font-size:12pt; font-weight:400; font-style:normal;\">\\r\\n<p style=\" margin-top:12px; margin-bottom:12px; margin-left:0px; margin-right:0px; -qt-block-indent:0; text-indent:0px;\">Sun, Apr 4,2021 </p>\\r\\n<p style=\" margin-top:12px; margin-bottom:12px; margin-left:0px; margin-right:0px; -qt-block-indent:0; text-indent:0px;\">Mood:3 </p>\\r\\n<p style=\" margin-top:12px; margin-bottom:12px; margin-left:0px; margin-right:0px; -qt-block-indent:0; text-indent:0px;\">Drove back from Great Sand Dunes with Ian and co, getting back at around 4pm. Showered, took a nap, did laundry and watched some Cobra Kai. </p>\\r\\n<p style=\" margin-top:12px; margin-bottom:12px; margin-left:0px; margin-right:0px; -qt-block-indent:0; text-indent:0px;\">I am grateful for my friends, not getting my camping gear ruined by sand, and still having some energy at the end of the day. </p>\\r\\n<p style=\" margin-top:12px; margin-bottom:12px; margin-left:0px; margin-right:0px; -qt-block-indent:0; text-indent:0px;\">I didnt start applying to jobs straight away, but self-compassion is a virtue. </p>\\r\\n<p style=\" margin-top:12px; margin-bottom:12px; margin-left:0px; margin-right:0px; -qt-block-indent:0; text-indent:0px;\">I learned a few new things about Python today, and have some ideas on projects to mark on. </p>\\r\\n<p style=\" margin-top:12px; margin-bottom:12px; margin-left:0px; margin-right:0px; -qt-block-indent:0; text-indent:0px;\">Tomorrow will be better if I apply to some jobs, get some coding done, and speak with John. </p></body></html><br><br>--<br>Sent from my reMarkable paper tablet<br>Get yours at www.remarkable.com<br><br>PS: You cannot reply to this email<br>\\r\\n'\n"
     ]
    }
   ],
   "source": [
    "os.chdir('/mnt/c/Users/colta/portfolio/codex_vitae_app/config')\n",
    "    \n",
    "service = authenticate_email_api()\n",
    "remarkable = get_email_bodies(service,query=\"from:my@remarkable.com\")\n",
    "#mynetdiary = get_email_bodies(service,query=\"from:no-reply@mynetdiary.net\")\n",
    "\n",
    "#print(mynetdiary[0])\n",
    "print(remarkable[0])"
   ]
  },
  {
   "cell_type": "code",
   "execution_count": 329,
   "metadata": {},
   "outputs": [],
   "source": [
    "recent = str(remarkable[0])\n",
    "\n",
    "# Extract mood score and convert to float\n",
    "\n",
    "def mood_rating(text):\n",
    "\n",
    "    try:\n",
    "        p = re.compile(r'Mood: \\d')\n",
    "        rating =  float(p.search(text).group().split(\":\")[1])\n",
    "    except AttributeError:\n",
    "        p = re.compile(r'Mood:\\d')\n",
    "        rating =  float(p.search(text).group().split(\":\")[1])\n",
    "\n",
    "    return rating\n",
    "    \n",
    "\n",
    "# Extract date from journal entry\n",
    "def journal_date(text):\n",
    "    date_ = parse(text.split(\"Mood\")[0]).date()\n",
    "    return date_\n",
    "\n",
    "TAG_RE = re.compile(r'<[^>]+>')\n",
    "\n",
    "def remove_tags(text):\n",
    "    return TAG_RE.sub('', text)\n",
    "\n",
    "#clean_recent = remove_tags(recent)\n",
    "\n",
    "#float(p.search(recent).group().split(\":\")[1])\n",
    "#float(p.search(test).group().split(\" \")[1])\n",
    "\n"
   ]
  },
  {
   "cell_type": "code",
   "execution_count": 372,
   "metadata": {},
   "outputs": [],
   "source": [
    "\n",
    "#slice = remarkable[:31]\n",
    "slice = remarkable[0]\n",
    "slice = remove_tags(str(slice))\n",
    "\n",
    "#parse(slice.split(\"Mood\")[0])#.date()\n",
    "#mood_rating(str(slice))\n",
    "#slice\n",
    "    \n",
    "#float(p.search(slice).group().split(\":\")[1])\n",
    "\n",
    "#mood = [mood_rating(str(entry)) for entry in slice]\n",
    "\n",
    "#date_ = [journal_date(str(entry)) for entry in slice]\n",
    "\n",
    "#print(mood)\n",
    "\n",
    "#type(str(remarkable))"
   ]
  },
  {
   "cell_type": "code",
   "execution_count": 375,
   "metadata": {},
   "outputs": [
    {
     "output_type": "execute_result",
     "data": {
      "text/plain": [
       "'Drove back from Great Sand Dunes with Ian and co, getting back at around 4pm. Showered, took a nap, did laundry and watched some Cobra Kai. I am grateful for my friends, not getting my camping gear ruined by sand, and still having some energy at the end of the day. I didnt start applying to jobs straight away, but self-compassion is a virtue. I learned a few new things about Python today, and have some ideas on projects to mark on. Tomorrow will be better if I apply to some jobs, get some coding done, and speak with John.'"
      ]
     },
     "metadata": {},
     "execution_count": 375
    }
   ],
   "source": [
    "\n",
    "# Remove line breaks\n",
    "cleaned = slice.replace(\"\\\\r\\\\n\",\"\")\n",
    "# Remove CSS formatting\n",
    "cleaned = cleaned.replace(\"b'p, li { white-space: pre-wrap; }\",\"\")\n",
    "# Remove Remarkable Footer\n",
    "cleaned = cleaned.replace(\" --Sent from my reMarkable paper tabletGet yours at www.remarkable.comPS: You cannot reply to this email'\",\"\")\n",
    "\n",
    "# Split at colon to return journal entry\n",
    "cleaned_str = str(cleaned.split(\":\")[1])[2:]\n",
    "#cleaned_str[2:]\n",
    "cleaned_str\n",
    "\n",
    "\n",
    "#stocks = [x.replace(\"\\r\\n\",\"\") for x in stocks]"
   ]
  },
  {
   "cell_type": "code",
   "execution_count": 363,
   "metadata": {},
   "outputs": [
    {
     "output_type": "execute_result",
     "data": {
      "text/plain": [
       "'Mood:3'"
      ]
     },
     "metadata": {},
     "execution_count": 363
    }
   ],
   "source": [
    "\"\"\"\n",
    "Manual cleaning tasks to do\n",
    "\"\"\"\n",
    "\n",
    "#Mar 4 has lower-case 'mood'\n",
    "#Feb 22 has lower-case 'mood' and period in date\n",
    "#Feb 21 has period instead of colon\n",
    "#Feb 20 has an 'S' after the date\n",
    "#Gap between Feb 18 and Jan 21 (Exist entries)\n",
    "#Jan 15-21 written with calligraphy pen and not legible\n",
    "#Jan 14-12 mood comes before date\n",
    "#Jan 12 date mispelled; two entries.\n",
    "#Jan 9-10 written with calligraphy pen and not legible\n",
    "#Jan 8 date written in zettlekasten time format; lots of mispellings\n",
    "#No date for Jan 7; lots of mispellings\n",
    "#Jan 6 dated as Jan 7; lots of mispellings\n",
    "#Jan 5 zettlekasten date format; lots of mispellings\n",
    "#Jan 4 two entries; one is bit encoded\n",
    "#Jan 4 Mood has 'q' instead of 9\n",
    "#No entry for Jan 3\n",
    "#Jan 1-3 zettlekasten date format\n",
    "#Multiple entries Jan 1-3 overlap with Exist entries\n",
    "\n",
    "\n",
    "\n"
   ]
  },
  {
   "cell_type": "code",
   "execution_count": 327,
   "metadata": {},
   "outputs": [
    {
     "output_type": "execute_result",
     "data": {
      "text/plain": [
       "datetime.date(2021, 4, 5)"
      ]
     },
     "metadata": {},
     "execution_count": 327
    }
   ],
   "source": [
    "date_str = 'Mon, Apr 5,2021'\n",
    "#parse(text.split(\"Mood\")[0]).date()\n",
    "parse(date_str).date()"
   ]
  },
  {
   "cell_type": "code",
   "execution_count": null,
   "metadata": {},
   "outputs": [],
   "source": []
  }
 ]
}