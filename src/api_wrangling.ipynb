{
 "metadata": {
  "language_info": {
   "codemirror_mode": {
    "name": "ipython",
    "version": 3
   },
   "file_extension": ".py",
   "mimetype": "text/x-python",
   "name": "python",
   "nbconvert_exporter": "python",
   "pygments_lexer": "ipython3",
   "version": "3.7.9-final"
  },
  "orig_nbformat": 2,
  "kernelspec": {
   "name": "python379jvsc74a57bd0b1297ce7edabcaca12989d21bd400c483a223f2edd8cd756b464bfc71bec8f56",
   "display_name": "Python 3.7.9 64-bit ('plutoshift_env': conda)"
  }
 },
 "nbformat": 4,
 "nbformat_minor": 2,
 "cells": [
  {
   "cell_type": "code",
   "execution_count": 1,
   "metadata": {},
   "outputs": [],
   "source": [
    "import os\n",
    "from api_requests import authenticate_email_api, get_email_content, get_rescuetime_daily\n",
    "from text_processing import reMarkableParsing\n",
    "import pandas as pd\n",
    "import re\n",
    "from dateutil.parser import parse\n",
    "import timeit\n",
    "import sqlite3\n",
    "import json\n",
    "import datetime\n",
    "\n",
    "from datetime import date\n",
    "from dateutil import relativedelta"
   ]
  },
  {
   "cell_type": "code",
   "execution_count": 2,
   "metadata": {},
   "outputs": [],
   "source": [
    "os.chdir('/mnt/c/Users/colta/portfolio/codex_vitae_app/config')\n",
    "    \n",
    "service = authenticate_email_api()\n",
    "remarkable = get_email_content(service,query=\"from:my@remarkable.com\")\n",
    "\n",
    "journal_entries = reMarkableParsing(remarkable).run()\n"
   ]
  },
  {
   "cell_type": "code",
   "execution_count": 3,
   "metadata": {},
   "outputs": [],
   "source": [
    "os.chdir('/mnt/c/Users/colta/portfolio/codex_vitae_app/config')\n",
    "service = authenticate_email_api()\n",
    "mynetdiary = get_email_content(service,query=\"from:no-reply@mynetdiary.net\")"
   ]
  },
  {
   "cell_type": "code",
   "execution_count": null,
   "metadata": {},
   "outputs": [],
   "source": []
  },
  {
   "cell_type": "code",
   "execution_count": 2,
   "metadata": {},
   "outputs": [
    {
     "output_type": "execute_result",
     "data": {
      "text/plain": [
       "[('2021-04-16', 5.24, 4.3, 2.05),\n",
       " ('2021-04-15', 5.8, 2.87, 3.19),\n",
       " ('2021-04-14', 2.7, 4.78, 2.76),\n",
       " ('2021-04-13', 1.45, 3.74, 1.99),\n",
       " ('2021-04-12', 2.63, 4.6, 2.45),\n",
       " ('2021-04-11', 0.26, 3.24, 0.98),\n",
       " ('2021-04-09', 2.27, 2.31, 1.0),\n",
       " ('2021-04-08', 6.35, 2.69, 2.34),\n",
       " ('2021-04-07', 1.16, 3.21, 1.82),\n",
       " ('2021-04-06', 1.36, 2.74, 2.13),\n",
       " ('2021-04-05', 0.52, 1.38, 1.29),\n",
       " ('2021-04-04', 0.37, 1.89, 0.27),\n",
       " ('2021-04-03', 0.11, 0.51, 0.36),\n",
       " ('2021-04-02', 0.32, 2.26, 1.58)]"
      ]
     },
     "metadata": {},
     "execution_count": 2
    }
   ],
   "source": [
    "# RescueTime code for \n",
    "\n",
    "#logger = logging.getLogger(__name__)\n",
    "\n",
    "os.chdir('/mnt/c/Users/colta/portfolio/codex_vitae_app/config')\n",
    "\n",
    "\n",
    "with open(\"rescuetime_cred.json\", \"r\") as file:\n",
    "    credentials = json.load(file)\n",
    "KEY = credentials.get('rescuetime').get('KEY')\n",
    "\n",
    "rescuetime_tuple = get_rescuetime_daily(KEY)\n",
    "\n",
    "rescuetime_tuple\n",
    "\n"
   ]
  },
  {
   "cell_type": "code",
   "execution_count": 133,
   "metadata": {},
   "outputs": [
    {
     "output_type": "stream",
     "name": "stdout",
     "text": [
      "SQLite version: 3.34.0\n"
     ]
    }
   ],
   "source": [
    "'''THIS IS THE .PY FILE IN THE ABOVE CELL'''\n",
    "#from db_utils import db_connect\n",
    "\n",
    "con = sqlite3.connect(\"/mnt/c/Users/colta/portfolio/codex_vitae_app/data/testdb.sqlite\") # connect to the database\n",
    "cur = con.cursor() # instantiate a cursor obj to execute SQL statements\n",
    "\n",
    "cur.execute('SELECT SQLITE_VERSION()')\n",
    "data = cur.fetchone()\n",
    "print(\"SQLite version: %s\" % data) \n",
    "\n",
    "#save a CREATE TABLE statement to a variable\n",
    "rescuetime_sql = \"\"\"\n",
    "CREATE TABLE rescuetime (\n",
    "    date text PRIMARY KEY,\n",
    "    prod_hours float,\n",
    "    dist_hours float,\n",
    "    neut_hours float\n",
    "    )\"\"\"\n",
    "\n",
    "#save a CREATE TABLE statement to a variable\n",
    "journal_sql = \"\"\"\n",
    "CREATE TABLE journal (\n",
    "    date text PRIMARY KEY,\n",
    "    mood float,\n",
    "    entry text\n",
    "    )\"\"\"\n",
    "\n",
    "\n",
    "#Create the table\n",
    "cur.execute(rescuetime_sql)\n",
    "cur.execute(journal_sql)\n",
    "\n",
    "con.commit()\n",
    "con.close()\n"
   ]
  },
  {
   "cell_type": "code",
   "execution_count": 132,
   "metadata": {},
   "outputs": [],
   "source": [
    "con = sqlite3.connect(\"/mnt/c/Users/colta/portfolio/codex_vitae_app/data/testdb.sqlite\") # connect to the database\n",
    "cur = con.cursor() # instantiate a cursor obj to execute SQL statements\n",
    "\n",
    "\n",
    "drop_rescuetime = \"\"\"\n",
    "DROP TABLE rescuetime\n",
    "\"\"\"\n",
    "\n",
    "drop_journal = \"\"\"\n",
    "DROP TABLE journal\n",
    "\"\"\"\n",
    "\n",
    "#Create the table\n",
    "cur.execute(drop_rescuetime)\n",
    "cur.execute(drop_journal)\n",
    "con.commit()\n",
    "con.close()"
   ]
  },
  {
   "cell_type": "code",
   "execution_count": 146,
   "metadata": {},
   "outputs": [],
   "source": [
    "def insert_rescuetime(time_tuple):\n",
    "    con = sqlite3.connect(\"/mnt/c/Users/colta/portfolio/codex_vitae_app/data/testdb.sqlite\") # connect to the database\n",
    "    cur = con.cursor() # instantiate a cursor obj to execute SQL statements\n",
    "    sql = \"\"\"\n",
    "        INSERT INTO rescuetime\n",
    "            (date, prod_hours, dist_hours, neut_hours)\n",
    "        VALUES (?, ?, ?, ?)\n",
    "        ON CONFLICT(date) DO UPDATE SET date = excluded.date\n",
    "        \"\"\"\n",
    "    con.row_factory = sqlite3.Row\n",
    "    for row in time_tuple:\n",
    "        cur.execute(sql,(row[0],row[1],row[2],row[3]))\n",
    "    con.commit()\n",
    "    con.close()\n",
    "    return cur.lastrowid\n",
    "\n",
    "\n",
    "def insert_journal(journal_tuple):\n",
    "    con = sqlite3.connect(\"/mnt/c/Users/colta/portfolio/codex_vitae_app/data/testdb.sqlite\") # connect to the database\n",
    "    cur = con.cursor() # instantiate a cursor obj to execute SQL statements\n",
    "    sql = \"\"\"\n",
    "        INSERT INTO journal\n",
    "            (date, mood, entry)\n",
    "        VALUES (?, ?, ?)\n",
    "        ON CONFLICT(date) DO UPDATE SET date = excluded.date\n",
    "        \"\"\"\n",
    "    con.row_factory = sqlite3.Row\n",
    "    for row in journal_tuple:\n",
    "        cur.execute(sql,(row[0],row[1],row[2]))\n",
    "    con.commit()\n",
    "    con.close()\n",
    "    return cur.lastrowid"
   ]
  },
  {
   "cell_type": "code",
   "execution_count": 154,
   "metadata": {},
   "outputs": [
    {
     "output_type": "execute_result",
     "data": {
      "text/plain": [
       "0"
      ]
     },
     "metadata": {},
     "execution_count": 154
    }
   ],
   "source": [
    "#%%timeit\n",
    "insert_rescuetime(rescuetime_tuple)"
   ]
  },
  {
   "cell_type": "code",
   "execution_count": 153,
   "metadata": {},
   "outputs": [
    {
     "output_type": "execute_result",
     "data": {
      "text/plain": [
       "0"
      ]
     },
     "metadata": {},
     "execution_count": 153
    }
   ],
   "source": [
    "insert_journal(journal_tuple)\n"
   ]
  },
  {
   "cell_type": "code",
   "execution_count": 161,
   "metadata": {},
   "outputs": [
    {
     "output_type": "stream",
     "name": "stdout",
     "text": [
      "The slowest run took 4.06 times longer than the fastest. This could mean that an intermediate result is being cached.\n15.3 ms ± 6.53 ms per loop (mean ± std. dev. of 7 runs, 1 loop each)\n"
     ]
    }
   ],
   "source": [
    "%%timeit\n",
    "con = sqlite3.connect(\"/mnt/c/Users/colta/portfolio/codex_vitae_app/data/testdb.sqlite\") # connect to the database\n",
    "test_rescuetime = pd.read_sql_query(\"SELECT * from rescuetime\",con)\n",
    "con.close()"
   ]
  },
  {
   "cell_type": "code",
   "execution_count": 162,
   "metadata": {},
   "outputs": [
    {
     "output_type": "stream",
     "name": "stdout",
     "text": [
      "9.56 ms ± 1.38 ms per loop (mean ± std. dev. of 7 runs, 100 loops each)\n"
     ]
    }
   ],
   "source": [
    "%%timeit\n",
    "\n",
    "import datetime \n",
    "\n",
    "con = sqlite3.connect(\"/mnt/c/Users/colta/portfolio/codex_vitae_app/data/testdb.sqlite\") # connect to the database\n",
    "cur = con.cursor() # instantiate a cursor obj to execute SQL statements\n",
    "\n",
    "cur.execute(\"SELECT * FROM rescuetime ORDER BY date\")\n",
    "results = cur.fetchall()\n",
    "\n",
    "con.commit()\n",
    "con.close()\n",
    "\n",
    "day = [datetime.datetime.strptime(row[0],'%Y-%m-%d') for row in results]\n",
    "all_hrs = [row[1] for row in results]\n",
    "prd_hrs = [row[2] for row in results]\n",
    "dst_hrs = [row[3] for row in results]\n",
    "nt_hrs = [row[4] for row in results]\n"
   ]
  },
  {
   "cell_type": "code",
   "execution_count": 173,
   "metadata": {},
   "outputs": [],
   "source": [
    "con = sqlite3.connect(\"/mnt/c/Users/colta/portfolio/codex_vitae_app/data/testdb.sqlite\") # connect to the database\n",
    "cur = con.cursor() # instantiate a cursor obj to execute SQL statements\n",
    "\n",
    "cur.execute(\"SELECT * FROM journal ORDER BY date\")\n",
    "results = cur.fetchall()\n",
    "\n",
    "con.commit()\n",
    "con.close()\n",
    "\n",
    "day = [datetime.datetime.strptime(row[0],'%Y-%m-%d') for row in results]\n",
    "mood = [row[1] for row in results]\n",
    "journal = [row[2] for row in results]"
   ]
  },
  {
   "cell_type": "code",
   "execution_count": null,
   "metadata": {},
   "outputs": [],
   "source": []
  }
 ]
}