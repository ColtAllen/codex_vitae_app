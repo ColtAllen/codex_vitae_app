{
 "metadata": {
  "language_info": {
   "codemirror_mode": {
    "name": "ipython",
    "version": 3
   },
   "file_extension": ".py",
   "mimetype": "text/x-python",
   "name": "python",
   "nbconvert_exporter": "python",
   "pygments_lexer": "ipython3",
   "version": "3.7.9-final"
  },
  "orig_nbformat": 2,
  "kernelspec": {
   "name": "python3",
   "display_name": "Python 3.7.9 64-bit ('plutoshift_env': conda)",
   "metadata": {
    "interpreter": {
     "hash": "b1297ce7edabcaca12989d21bd400c483a223f2edd8cd756b464bfc71bec8f56"
    }
   }
  }
 },
 "nbformat": 4,
 "nbformat_minor": 2,
 "cells": [
  {
   "cell_type": "code",
   "execution_count": 1,
   "metadata": {},
   "outputs": [],
   "source": [
    "import os\n",
    "from email_extract import authenticate_email_api, get_email_bodies\n",
    "import pandas as pd\n",
    "import re\n",
    "from dateutil.parser import parse\n",
    "\n",
    "#lxml required for pandas to parse html tables"
   ]
  },
  {
   "cell_type": "code",
   "execution_count": 2,
   "metadata": {
    "tags": []
   },
   "outputs": [],
   "source": [
    "os.chdir('/mnt/c/Users/colta/portfolio/codex_vitae_app/config')\n",
    "    \n",
    "service = authenticate_email_api()\n",
    "mynetdiary = get_email_bodies(service,query=\"from:no-reply@mynetdiary.net\")\n",
    "\n",
    "#print(mynetdiary[0])"
   ]
  },
  {
   "cell_type": "code",
   "execution_count": 3,
   "metadata": {},
   "outputs": [],
   "source": [
    "TAG_RE = re.compile(r'<[^>]+>')\n",
    "\n",
    "def remove_tags(text):\n",
    "    return TAG_RE.sub('', text)"
   ]
  },
  {
   "cell_type": "code",
   "execution_count": 5,
   "metadata": {},
   "outputs": [],
   "source": [
    "table_ = str(mynetdiary[0]).split(\"Measurements\")[1].replace(\"\\\\r\\\\n\",\"\").split(\"Nutrition\")[0]\n",
    "\n",
    "measure_table = pd.read_html(table_)"
   ]
  },
  {
   "cell_type": "code",
   "execution_count": 56,
   "metadata": {},
   "outputs": [],
   "source": [
    "measure_table = measure_table[0]"
   ]
  },
  {
   "cell_type": "code",
   "execution_count": 44,
   "metadata": {},
   "outputs": [],
   "source": [
    "nutrition_table_ = str(mynetdiary[0]).split(\"Measurements\")[1].replace(\"\\\\r\\\\n\",\"\").split(\"Nutrition\")[1]\n",
    "\n",
    "nutrition_df = pd.read_html(nutrition_table_,parse_dates=True,header=1)"
   ]
  },
  {
   "cell_type": "code",
   "execution_count": 55,
   "metadata": {},
   "outputs": [],
   "source": [
    "#nutrition_df[0].loc[2,:]#['Target']\n",
    "#remove_tags(nutrition_table_)\n",
    "#nutrition_table_\n",
    "nutrition_days = nutrition_df[0][nutrition_df[0]['Unnamed: 0'].isnull()].reset_index()"
   ]
  },
  {
   "cell_type": "code",
   "execution_count": 58,
   "metadata": {},
   "outputs": [
    {
     "output_type": "execute_result",
     "data": {
      "text/plain": [
       "Index(['Date', 'Weight, lbs', 'BMR, cals', 'BMI', 'Pulse,', 'Sleep,',\n",
       "       'Deep Sleep,', 'Light Sleep,', 'Awakes,', 'Daily Steps,', 'Distance, m',\n",
       "       'Calories Out, cals', 'Floors,', 'Activity Calories, cals',\n",
       "       'Fairly Active Minutes,', 'Active Minutes,', 'Activity BMR, cals',\n",
       "       'index', 'Unnamed: 0', 'Unnamed: 1', 'Unnamed: 2', 'Calories',\n",
       "       'Total Fat, g', 'Total Carbs, g', 'Protein, g', 'Trans Fat, g',\n",
       "       'Saturated Fat, g', 'Sodium, mg', 'Net Carbs, g', 'Dietary Fiber, g',\n",
       "       'Vitamin A, %', 'Vitamin C, %', 'Calcium, %', 'Iron, %',\n",
       "       'Vitamin B-6, %', 'Vitamin B-12, %', 'Vitamin E, %', 'Vitamin K, %',\n",
       "       'Magnesium, %', 'Phosphorus, %', 'Potassium, mg', 'Zinc, %',\n",
       "       'Copper, %', 'Manganese, %', 'Selenium, %', 'Thiamin, %',\n",
       "       'Riboflavin, %', 'Niacin, %', 'Pantothenic Acid, %', 'Folate, %',\n",
       "       'Time'],\n",
       "      dtype='object')"
      ]
     },
     "metadata": {},
     "execution_count": 58
    }
   ],
   "source": [
    "fitness_df = measure_table.join(nutrition_days,how='inner')\n",
    "#Fix sleep: Awakes=Deep, REM = Sleep-Awakes-Light\n",
    "#In Django: Apr 3, 2021 is 9855 and Apr 4, 2021 is 11,559 (camping must interfere with API synch) \n",
    "fitness_df.columns"
   ]
  },
  {
   "cell_type": "code",
   "execution_count": null,
   "metadata": {},
   "outputs": [],
   "source": []
  }
 ]
}