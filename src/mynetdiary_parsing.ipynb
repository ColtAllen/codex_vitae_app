{
 "metadata": {
  "language_info": {
   "codemirror_mode": {
    "name": "ipython",
    "version": 3
   },
   "file_extension": ".py",
   "mimetype": "text/x-python",
   "name": "python",
   "nbconvert_exporter": "python",
   "pygments_lexer": "ipython3",
   "version": "3.7.9-final"
  },
  "orig_nbformat": 2,
  "kernelspec": {
   "name": "python379jvsc74a57bd0b1297ce7edabcaca12989d21bd400c483a223f2edd8cd756b464bfc71bec8f56",
   "display_name": "Python 3.7.9 64-bit ('plutoshift_env': conda)"
  }
 },
 "nbformat": 4,
 "nbformat_minor": 2,
 "cells": [
  {
   "cell_type": "code",
   "execution_count": 146,
   "metadata": {},
   "outputs": [],
   "source": [
    "import os\n",
    "from api_requests import authenticate_email_api, get_email_content\n",
    "import pandas as pd\n",
    "import re\n",
    "from dateutil.parser import parse\n",
    "\n",
    "from datetime import date\n",
    "from dateutil.relativedelta import relativedelta\n",
    "\n",
    "#lxml required for pandas to parse html tables"
   ]
  },
  {
   "cell_type": "code",
   "execution_count": 116,
   "metadata": {
    "tags": []
   },
   "outputs": [
    {
     "output_type": "stream",
     "name": "stdout",
     "text": [
      "22\n"
     ]
    }
   ],
   "source": [
    "os.chdir('/mnt/c/Users/colta/portfolio/codex_vitae_app/config')\n",
    "    \n",
    "service = authenticate_email_api()\n",
    "mynetdiary = get_email_content(service,query=\"from:no-reply@mynetdiary.net\")\n",
    "\n",
    "print(len(mynetdiary))"
   ]
  },
  {
   "cell_type": "code",
   "execution_count": 216,
   "metadata": {},
   "outputs": [
    {
     "output_type": "execute_result",
     "data": {
      "text/plain": [
       "[('03/29/21',\n",
       "  166.4,\n",
       "  1723.0,\n",
       "  73,\n",
       "  4.6,\n",
       "  2.1,\n",
       "  1.9,\n",
       "  0.5999999999999996,\n",
       "  0.0,\n",
       "  14336.0,\n",
       "  2824),\n",
       " ('03/30/21', nan, nan, 73, nan, nan, nan, nan, nan, 10449.0, 2736),\n",
       " ('03/31/21', nan, nan, 73, 6.7, 1.5, 3.6, 1.6, 0.0, 10775.0, 2735),\n",
       " ('04/01/21',\n",
       "  nan,\n",
       "  nan,\n",
       "  70,\n",
       "  7.5,\n",
       "  1.4,\n",
       "  5.0,\n",
       "  1.0999999999999996,\n",
       "  0.2,\n",
       "  10247.0,\n",
       "  2532),\n",
       " ('04/02/21',\n",
       "  nan,\n",
       "  nan,\n",
       "  73,\n",
       "  9.1,\n",
       "  3.3,\n",
       "  4.7,\n",
       "  1.0999999999999996,\n",
       "  0.3,\n",
       "  13286.0,\n",
       "  2881),\n",
       " ('04/03/21', nan, nan, 68, 7.5, 1.3, 6.2, 0.0, 0.1, nan, 226),\n",
       " ('04/04/21', nan, nan, 78, 9.9, 0.8, 7.1, 2.0, 0.4, 9924.0, 2211)]"
      ]
     },
     "metadata": {},
     "execution_count": 216
    }
   ],
   "source": [
    "fitness_table = mynetdiary[1].split(\"Measurements\")[1].replace(\"\\\\r\\\\n\",\"\").split(\"Nutrition\")[0]\n",
    "fitness_df = pd.read_html(fitness_table)[0]\n",
    "\n",
    "fitness_df['Deep Sleep'] = fitness_df['Awakes,']\n",
    "fitness_df['Awakes'] = fitness_df['Deep Sleep,']\n",
    "fitness_df['REM Sleep'] = fitness_df['Sleep,'] - fitness_df['Deep Sleep'] - fitness_df['Light Sleep,']\n",
    "fitness_df = fitness_df[['Date', 'Weight, lbs', 'BMR, cals','Pulse,', 'Sleep,','Deep Sleep', 'Light Sleep,', 'REM Sleep','Awakes','Daily Steps,', 'Calories Out, cals']]\n",
    "list(fitness_df.itertuples(index=False,name=None))\n",
    "\n",
    "\n"
   ]
  },
  {
   "cell_type": "code",
   "execution_count": 209,
   "metadata": {},
   "outputs": [
    {
     "output_type": "execute_result",
     "data": {
      "text/plain": [
       "[(datetime.date(2021, 4, 5),\n",
       "  3067.0,\n",
       "  '136',\n",
       "  '301',\n",
       "  '150',\n",
       "  '1',\n",
       "  '28',\n",
       "  3146.0,\n",
       "  246.0,\n",
       "  '53'),\n",
       " (datetime.date(2021, 4, 6),\n",
       "  2331.0,\n",
       "  '119',\n",
       "  '140',\n",
       "  '165',\n",
       "  nan,\n",
       "  '19',\n",
       "  5922.0,\n",
       "  109.0,\n",
       "  '32'),\n",
       " (datetime.date(2021, 4, 7),\n",
       "  2088.0,\n",
       "  '108',\n",
       "  '144',\n",
       "  '141',\n",
       "  nan,\n",
       "  '18',\n",
       "  3036.0,\n",
       "  99.0,\n",
       "  '44'),\n",
       " (datetime.date(2021, 4, 8),\n",
       "  2713.0,\n",
       "  '76',\n",
       "  '346',\n",
       "  '132',\n",
       "  nan,\n",
       "  '41',\n",
       "  3793.0,\n",
       "  301.0,\n",
       "  '42'),\n",
       " (datetime.date(2021, 4, 11),\n",
       "  2150.0,\n",
       "  '102',\n",
       "  '185',\n",
       "  '148',\n",
       "  nan,\n",
       "  '20',\n",
       "  3289.0,\n",
       "  138.0,\n",
       "  '45')]"
      ]
     },
     "metadata": {},
     "execution_count": 209
    }
   ],
   "source": [
    "nutrition_table = str(mynetdiary[0]).split(\"Measurements\")[1].replace(\"\\\\r\\\\n\",\"\").split(\"Nutrition\")[1].split(\"Activities\")[0]\n",
    "\n",
    "mon_idx = nutrition_table.find('Monday')\n",
    "tue_idx = nutrition_table.find('Tuesday')\n",
    "wed_idx = nutrition_table.find('Wednesday')\n",
    "thu_idx = nutrition_table.find('Thursday')\n",
    "fri_idx = nutrition_table.find('Friday')\n",
    "sat_idx = nutrition_table.find('Saturday')\n",
    "sun_idx = nutrition_table.find('Sunday')\n",
    "\n",
    "day_find = [mon_idx,tue_idx,wed_idx,thu_idx,fri_idx,sat_idx,sun_idx]\n",
    "\n",
    "# Find date strings in HTML table and format as dates.\n",
    "date_list = [parse(nutrition_table[day:].split(\"</span\")[0]).date() for day in day_find if day != -1]\n",
    "\n",
    "# Revert to previous year for NYE week.\n",
    "date_list = [(day - relativedelta(years=1) if date.today().strftime(\"%m%d\") < day.strftime(\"%m%d\") else day) for day in date_list]\n",
    "\n",
    "\n",
    "nutrition_df = pd.read_html(nutrition_table,parse_dates=True,header=1)\n",
    "\n",
    "# Retrieve rows containing daily totals.\n",
    "nutrition_df = nutrition_df[0][nutrition_df[0]['Unnamed: 0'].isnull()].reset_index()\n",
    "nutrition_df['Date'] = date_list\n",
    "\n",
    "nutrition_df = nutrition_df[['Date','Calories','Total Fat,\\xa0g','Total Carbs,\\xa0g', 'Protein,\\xa0g',\n",
    " 'Trans Fat,\\xa0g','Saturated Fat,\\xa0g','Sodium,\\xa0mg', 'Net Carbs,\\xa0g', 'Dietary Fiber,\\xa0g']]\n",
    "\n",
    "list(nutrition_df.itertuples(index=False,name=None))"
   ]
  },
  {
   "cell_type": "code",
   "execution_count": null,
   "metadata": {},
   "outputs": [],
   "source": [
    "if __name__ == '__main__':\n",
    "\n",
    "    os.chdir('/mnt/c/Users/colta/portfolio/codex_vitae_app/config')\n",
    "\n",
    "    # Search the last two weeks of emails for MyNetDiary nutrition reports.\n",
    "    date_ = str(date.today()-relativedelta.relativedelta(days=14))\n",
    "    service = authenticate_email_api_local()\n",
    "    mynetdiary = get_email_bodies(service,query=f\"from:no-reply@mynetdiary.net,after:{date_}\")\n",
    "\n",
    "    #Confirm two weekly reports were returned.\n",
    "    assert(len(mynetdiary) == 2)"
   ]
  }
 ]
}